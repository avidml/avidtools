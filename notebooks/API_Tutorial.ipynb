{
 "cells": [
  {
   "cell_type": "markdown",
   "id": "2d37768f-7ef4-4700-9d11-5b4ef2d9c569",
   "metadata": {},
   "source": [
    "# Using the AVID Public APIs\n",
    "\n",
    "## Background \n",
    "\n",
    "AVID houses two types of records: *Records* and *Vulnerabilities*. A vulnerability (vuln) is high-level evidence of an AI failure mode. A report is one example of a particular vulnerability occurring, supported by qualitative or quantitative evaluation. You can think of a report as an instance of a vulnerability.\n",
    "\n",
    "As an example, we'll look at a vulnerability below about gender bias in a particular language model, `xlm-roberta-base`. That vuln is associated with two reports, each of which measured gender bias by a different method.\n",
    "\n",
    "Only reports can be submitted to the API; vulnerabilities cannot be submitted. After a report is submitted, it becomes a \"draft\" and enters the AVID editorial queue. In the editorial process, human editors review and validate the report and determine whether it belongs to an existing vulnerability or represents a new vulnerability. Reports are published after successfully passing through the editorial process. \n",
    "\n",
    "In this notebook, we'll walk through the process of submitting a new report and checking on its status. We'll also cover how to retrieve published items from the database."
   ]
  },
  {
   "cell_type": "markdown",
   "id": "dfb0e912-10e7-49a2-a738-d695c114b5eb",
   "metadata": {},
   "source": [
    "## Public API Documentation\n",
    "| Method | HTTP request | Description |\n",
    "|------------- | ------------- | -------------|\n",
    "| [**healthCheck**](#healthCheck) | **GET** / | health check |\n",
    "| [**submitObjectByObjectType**](#submitObjectByObjectType) | **POST** /submit/object/{obj_type} | submit an object for review by object type |\n",
    "| [**retrieveStatusByUUID**](#retrieveStatusByUUID) | **GET** /review/{uuid}/status | get editorial status of submitted object |\n",
    "| [**listObjects**](#listObjects) | **GET** /objects | get published avid objects |\n",
    "| [**getObjectByAvidID**](#getObjectByAvidID) | **GET** /object/{avid_id} | get published object by avid id |\n",
    "| [**listObjectsByObjectType**](#listObjectsByObjectType) | **GET** /objects/{obj_type} | get published objects by object type |\n"
   ]
  },
  {
   "cell_type": "code",
   "execution_count": null,
   "id": "9736aaf3-5052-4d7e-bb42-18ef8602e638",
   "metadata": {},
   "outputs": [],
   "source": [
    "import json\n",
    "from os import environ\n",
    "import requests"
   ]
  },
  {
   "cell_type": "code",
   "execution_count": null,
   "id": "a2f56c58-6017-4e15-9eea-aa2d62eafc1f",
   "metadata": {},
   "outputs": [],
   "source": [
    "base = \"\" #replace with the URL provided by AVID\n",
    "api_key = environ.get('AVID_API_KEY')\n",
    "headers =  {\"Authorization\":api_key}"
   ]
  },
  {
   "cell_type": "markdown",
   "id": "466bc75c-f6d5-4d9c-90cb-e2dde74b3ef3",
   "metadata": {},
   "source": [
    "# Basic API check\n",
    "This is a quick check to make sure your API key is working and you're able to contact the endpoint.  \n",
    "It should give the response \"meow\".\n",
    "\n",
    "<a name=\"healthCheck\"></a>\n",
    "### **healthCheck**\n",
    "> String healthCheck()\n",
    "\n",
    "health check\n",
    "\n",
    "    This is an endpoint for sanity checks. \n",
    "\n",
    "#### Parameters\n",
    "This endpoint does not need any parameter.\n",
    "\n",
    "#### Return type\n",
    "\n",
    "**String**\n",
    "\n",
    "#### HTTP request headers\n",
    "\n",
    "- **Content-Type**: Not defined\n",
    "- **Accept**: text/plain\n"
   ]
  },
  {
   "cell_type": "code",
   "execution_count": null,
   "id": "ef037551-0daa-45b3-ac91-236fd39dace0",
   "metadata": {},
   "outputs": [],
   "source": [
    "url = base\n",
    "response = requests.get(url, headers=headers)\n",
    "print(response, response.text)"
   ]
  },
  {
   "cell_type": "markdown",
   "id": "c2b33090-c553-42ca-97c4-d1e7d0f0de0a",
   "metadata": {},
   "source": [
    "# Submitting reports"
   ]
  },
  {
   "cell_type": "markdown",
   "id": "2dce590b-2740-47bc-bd33-bfdd535bacab",
   "metadata": {},
   "source": [
    "## How to format your report\n",
    "\n",
    "Reports should conform to the AVID report data model, which is documented [here](https://avidml.org/avidtools/reference/report.html). The endpoint does not perform validation against this data model; it accepts any valid JSON. A validation endpoint will be available in the future.\n",
    "\n",
    "Different evaluation pipelines can be integrated with `avidtools` to support creating AVID reports within that pipeline. As an illustrative example, [check out](https://avidml.gitbook.io/doc/developer-tools/python-sdk/integrations/garak) our documentation summarizing an existing integration with the LLM Vulnerability Scanner garak. You can see the source code for this integration [here](https://github.com/leondz/garak/blob/main/analyze/report_avid.py). To this end, you can also check out the source code for our [Hugging Face space](https://huggingface.co/spaces/avid-ml/bias-detection)."
   ]
  },
  {
   "cell_type": "markdown",
   "id": "32124281-b29f-46cb-82b9-00a7551eb8c8",
   "metadata": {},
   "source": [
    "## Submit an object\n",
    "\n",
    "Here we'll submit a draft report generated by [this HuggingFace space](https://huggingface.co/spaces/avid-ml/bias-detection), which reports gender bias in a language models. The HuggingFace space produces the report as a string, so we'll start by loading that into a json object.\n",
    "\n",
    "<a name=\"submitObjectByObjectType\"></a>\n",
    "### **submitObjectByObjectType**\n",
    "> String submitObjectByObjectType(obj\\_type, AvidObjectData)\n",
    "\n",
    "submit an object for review by object type\n",
    "\n",
    "    public API to submit an object for review. upon success,  an editorial entry will be created in the backend, and  the api returns the uuid for that entry. it could be used to track the status. \n",
    "\n",
    "#### Parameters\n",
    "\n",
    "|Name | Type | Description  | Notes |\n",
    "|------------- | ------------- | ------------- | -------------|\n",
    "| **obj\\_type** | **AvidObjectType**| type of object to list | [default to null] [enum: report, vulnerability] |\n",
    "| **AvidObjectData** | **AvidObjectData**| data of an object to be submitted for review | [optional] |\n",
    "\n",
    "#### Return type\n",
    "\n",
    "**String**\n",
    "\n",
    "#### HTTP request headers\n",
    "\n",
    "- **Content-Type**: application/json\n",
    "- **Accept**: application/json, text/plain"
   ]
  },
  {
   "cell_type": "code",
   "execution_count": null,
   "id": "3cb9ea5a-6b42-408c-b79c-b644dd7c945a",
   "metadata": {},
   "outputs": [],
   "source": [
    "new_report = json.loads('''{\n",
    "  \"data_type\": \"AVID\",\n",
    "  \"data_version\": null,\n",
    "  \"metadata\": null,\n",
    "  \"affects\": {\n",
    "    \"developer\": [],\n",
    "    \"deployer\": [\n",
    "      \"Hugging Face\"\n",
    "    ],\n",
    "    \"artifacts\": [\n",
    "      {\n",
    "        \"type\": \"Model\",\n",
    "        \"name\": \"bert-base-cased\"\n",
    "      }\n",
    "    ]\n",
    "  },\n",
    "  \"problemtype\": {\n",
    "    \"classof\": \"LLM Evaluation\",\n",
    "    \"type\": \"Detection\",\n",
    "    \"description\": {\n",
    "      \"lang\": \"eng\",\n",
    "      \"value\": \"Profession bias reinforcing gender stereotypes found in bert-base-cased, as measured on the Winobias dataset\"\n",
    "    }\n",
    "  },\n",
    "  \"metrics\": [\n",
    "    {\n",
    "      \"name\": \"Winobias\",\n",
    "      \"detection_method\": {\n",
    "        \"type\": \"Significance Test\",\n",
    "        \"name\": \"One-sample Z-test\"\n",
    "      },\n",
    "      \"results\": {\n",
    "        \"feature\": [\n",
    "          \"gender\"\n",
    "        ],\n",
    "        \"stat\": [\n",
    "          19.91\n",
    "        ],\n",
    "        \"pvalue\": [\n",
    "          0\n",
    "        ]\n",
    "      }\n",
    "    }\n",
    "  ],\n",
    "  \"references\": [\n",
    "    {\n",
    "      \"label\": \"Winograd-schema dataset for detecting gender bias\",\n",
    "      \"url\": \"https://uclanlp.github.io/corefBias/overview\"\n",
    "    },\n",
    "    {\n",
    "      \"label\": \"bert-base-cased on Hugging Face\",\n",
    "      \"url\": \"https://huggingface.co/bert-base-cased\"\n",
    "    }\n",
    "  ],\n",
    "  \"description\": {\n",
    "    \"lang\": \"eng\",\n",
    "    \"value\": \"Filling in pronouns in sentences tagged with professions using bert-base-cased were found to be significantly biased on the Winobias dataset.\"\n",
    "  },\n",
    "  \"impact\": {\n",
    "    \"avid\": {\n",
    "      \"risk_domain\": [\n",
    "        \"Ethics\"\n",
    "      ],\n",
    "      \"sep_view\": [\n",
    "        \"E0101: Group fairness\"\n",
    "      ],\n",
    "      \"lifecycle_view\": [\n",
    "        \"L05: Evaluation\"\n",
    "      ],\n",
    "      \"taxonomy_version\": \"0.2\"\n",
    "    }\n",
    "  },\n",
    "  \"credit\": null,\n",
    "  \"reported_date\": \"2023-07-12\"\n",
    "}''', parse_float=str)\n"
   ]
  },
  {
   "cell_type": "code",
   "execution_count": null,
   "id": "c4159f2a-b66d-4042-a57a-09a1fe84f2de",
   "metadata": {},
   "outputs": [],
   "source": [
    "url = base + \"/submit\"\n",
    "response = requests.post(url, json=new_report, headers=headers)\n",
    "uuid = response.json()\n",
    "print(response, uuid)"
   ]
  },
  {
   "cell_type": "markdown",
   "id": "a2746a5a-fde1-4e20-b83a-a205d6851ed1",
   "metadata": {},
   "source": [
    "The endpoint returns the UUID, a unique identifier for the submitted entry. The UUID can be used to track the status of a submission, as shown below."
   ]
  },
  {
   "cell_type": "markdown",
   "id": "949374b5-329f-43c6-ae27-fea563104533",
   "metadata": {},
   "source": [
    "## Retrieve the editorial status of a submitted report object\n",
    "\n",
    "Now we'll check on the status of the report we just submitted above. The API should return the status as \"draft.\"\n",
    "\n",
    "<a name=\"retreiveStatusByUUID\"></a>\n",
    "### **retreiveStatusbyUUID**\n",
    "> string retreiveStatusByUUID(UUID)\n",
    "\n",
    "get editorial status for a submitted object\n",
    "\n",
    "    public API to get the current editorial status of a submitted object.\n",
    "\n",
    "#### Parameters\n",
    "This endpoint uses the UUID in the URL as a parameter.\n",
    "\n",
    "#### Return type\n",
    "\n",
    "**string**\n",
    "\n",
    "#### HTTP request headers\n",
    "\n",
    "- **Content-Type**: Not defined\n",
    "- **Accept**: application/json, text/plain"
   ]
  },
  {
   "cell_type": "code",
   "execution_count": null,
   "id": "7798c96f-1614-46ba-ae29-8d10111b720f",
   "metadata": {},
   "outputs": [],
   "source": [
    "url = base + f\"/review/{uuid}/status\"\n",
    "response = requests.get(url, headers=headers)\n",
    "print(response, response.json())"
   ]
  },
  {
   "cell_type": "markdown",
   "id": "dd1d2bac-313a-46c7-90af-bc3cc1d3981e",
   "metadata": {},
   "source": [
    "# Retrieving reports and vulnerabilities from the database"
   ]
  },
  {
   "cell_type": "markdown",
   "id": "60853bcb-c9ca-43e7-a4ed-7e75026d2466",
   "metadata": {},
   "source": [
    "## Get all published objects\n",
    "\n",
    "Published objects include both reports and vulnerabilities. Run the cell below to retrieve them all and take a look at a few of them.\n",
    "\n",
    "<a name=\"listObjects\"></a>\n",
    "### **listObjects**\n",
    "> List listObjects()\n",
    "\n",
    "get published avid objects\n",
    "\n",
    "    public API to list published avid objects.\n",
    "\n",
    "#### Parameters\n",
    "This endpoint does not need any parameter.\n",
    "\n",
    "#### Return type\n",
    "\n",
    "**List**\n",
    "\n",
    "#### HTTP request headers\n",
    "\n",
    "- **Content-Type**: Not defined\n",
    "- **Accept**: application/json, text/plain"
   ]
  },
  {
   "cell_type": "code",
   "execution_count": null,
   "id": "c999e036-5d42-4756-83a6-f94e6ace3a1f",
   "metadata": {
    "scrolled": true,
    "tags": []
   },
   "outputs": [],
   "source": [
    "url = base + \"/objects\"\n",
    "response = requests.get(url, headers=headers)\n",
    "print(response)\n",
    "for r in response.json()[:3]:\n",
    "    print(json.dumps(r, indent=2))\n",
    "    print(\"##########################################\")"
   ]
  },
  {
   "cell_type": "markdown",
   "id": "3e543dbf-003d-4a66-9aec-44f821a2fca9",
   "metadata": {},
   "source": [
    "## Get published objects by AVID ID\n",
    "\n",
    "Published reports and vulnerabilities have IDs of the form `AVID-2022-V001` for vulnerabilities and `AVID-2022-R0001` for reports. You can retrieve published objects by these IDs. \n",
    "\n",
    "\n",
    "<a name=\"getObjectByAvidID\"></a>\n",
    "### **getObjectByAvidID**\n",
    "> AvidObjectFull getObjectByAvidID(avid\\_id)\n",
    "\n",
    "get published object by avid id\n",
    "\n",
    "    public API to get a published avid object by its published id.\n",
    "\n",
    "#### Parameters\n",
    "\n",
    "|Name | Type | Description  | Notes |\n",
    "|------------- | ------------- | ------------- | -------------|\n",
    "| **avid\\_id** | **AvidID**| published avid object id | [default to null] |\n",
    "\n",
    "#### Return type\n",
    "\n",
    "**AvidObjectFull**\n",
    "\n",
    "#### HTTP request headers\n",
    "\n",
    "- **Content-Type**: Not defined\n",
    "- **Accept**: application/json, text/plain"
   ]
  },
  {
   "cell_type": "code",
   "execution_count": null,
   "id": "204219f5-1b87-4fa4-b347-e370a769eb43",
   "metadata": {
    "scrolled": true,
    "tags": []
   },
   "outputs": [],
   "source": [
    "url = base + \"/object/AVID-2022-R0004\"\n",
    "response = requests.get(url, headers=headers)\n",
    "print(response)\n",
    "print(json.dumps(response.json(), indent=2))"
   ]
  },
  {
   "cell_type": "markdown",
   "id": "740a1aa6-55f7-442e-a03d-7c2dfceee121",
   "metadata": {
    "tags": []
   },
   "source": [
    "Above, we retrieved a report. The same type of request works for vulns too. In that case, just supply a vuln ID instead of a report ID. "
   ]
  },
  {
   "cell_type": "markdown",
   "id": "6fc7e3f2-c11f-472b-b442-0dd4db047e1e",
   "metadata": {},
   "source": [
    "## Get published objects by object type\n",
    "\n",
    "When retrieving all published objects, you can limit your results to just reports, or just vulns, as follows.\n",
    "\n",
    "<a name=\"listObjectsByObjectType\"></a>\n",
    "### **listObjectsByObjectType**\n",
    "> List listObjectsByObjectType(obj\\_type)\n",
    "\n",
    "get published objects by object type\n",
    "\n",
    "    public API to list published objects by object_type.  convenient in_path filter of {/objects}.  \n",
    "\n",
    "#### Parameters\n",
    "\n",
    "|Name | Type | Description  | Notes |\n",
    "|------------- | ------------- | ------------- | -------------|\n",
    "| **obj\\_type** | **AvidObjectType** | type of object to list | [default to null] [enum: report, vulnerability] |\n",
    "\n",
    "#### Return type\n",
    "\n",
    "**List**\n",
    "\n",
    "#### HTTP request headers\n",
    "\n",
    "- **Content-Type**: Not defined\n",
    "- **Accept**: application/json, text/plain"
   ]
  },
  {
   "cell_type": "code",
   "execution_count": null,
   "id": "f9bb5cf2-e211-4541-85bf-6434827b67ed",
   "metadata": {},
   "outputs": [],
   "source": [
    "url = base + \"/objects/report\"\n",
    "response = requests.get(url, headers=headers)\n",
    "print(response)\n",
    "print(response.json()[0])   # print the first one"
   ]
  },
  {
   "cell_type": "code",
   "execution_count": null,
   "id": "aa759c6e-f568-43ce-9b26-2180977ed82e",
   "metadata": {},
   "outputs": [],
   "source": [
    "url = base + \"/objects/vulnerability\"\n",
    "response = requests.get(url, headers=headers)\n",
    "print(response)\n",
    "print(response.json()[0])   # print the first one"
   ]
  }
 ],
 "metadata": {
  "kernelspec": {
   "display_name": "base",
   "language": "python",
   "name": "python3"
  },
  "language_info": {
   "codemirror_mode": {
    "name": "ipython",
    "version": 3
   },
   "file_extension": ".py",
   "mimetype": "text/x-python",
   "name": "python",
   "nbconvert_exporter": "python",
   "pygments_lexer": "ipython3",
   "version": "3.11.5"
  }
 },
 "nbformat": 4,
 "nbformat_minor": 5
}
